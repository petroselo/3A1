{
 "cells": [
  {
   "cell_type": "code",
   "execution_count": 3,
   "metadata": {},
   "outputs": [],
   "source": [
    "from __future__ import print_function\n",
    "from ipywidgets import interact, interactive, fixed, interact_manual\n",
    "import ipywidgets as widget\n",
    "import cmath as c\n",
    "\n",
    "import matplotlib\n",
    "import numpy as np\n",
    "import matplotlib.pyplot as plt"
   ]
  },
  {
   "cell_type": "code",
   "execution_count": 4,
   "metadata": {},
   "outputs": [
    {
     "ename": "SyntaxError",
     "evalue": "invalid syntax (<ipython-input-4-f230adc5b154>, line 13)",
     "output_type": "error",
     "traceback": [
      "\u001b[0;36m  File \u001b[0;32m\"<ipython-input-4-f230adc5b154>\"\u001b[0;36m, line \u001b[0;32m13\u001b[0m\n\u001b[0;31m    φ =\u001b[0m\n\u001b[0m        ^\u001b[0m\n\u001b[0;31mSyntaxError\u001b[0m\u001b[0;31m:\u001b[0m invalid syntax\n"
     ]
    }
   ],
   "source": [
    "#q2\n",
    "%matplotlib inline\n",
    "A=1\n",
    "xvect = np.linspace(-20., 20., 200)\n",
    "yvect = np.linspace(-20., 20., 100)\n",
    "x, y = np.zeros((xvect.size, yvect.size)), np.zeros((xvect.size, yvect.size))\n",
    "for i in range(xvect.size):\n",
    "    for j in range(yvect.size):\n",
    "        x[i, j], y[i,j] = xvect[i], yvect[j]\n",
    "\n",
    "#The only things that need to be changed really\n",
    "ψ = A*x*y\n",
    "φ = \n",
    "p = 20 - A*(x**2 + y**2)\n",
    "\n",
    "#plt.contour(x, y, p, colors=\"red\") #red forcegul pushing pressure\n",
    "plt.contour(x, y, ψ, colors=\"blue\"); # blue the flowing water\n",
    "plt.contour(x, y, φ,colors=\"green\"); # green the mysterious velocity potential\n",
    "plt.gca().set_aspect(\"equal\");plt.show()"
   ]
  },
  {
   "cell_type": "code",
   "execution_count": 5,
   "metadata": {},
   "outputs": [
    {
     "data": {
      "image/png": "[encoded data removed]",
      "text/plain": [
       "<Figure size 432x288 with 1 Axes>"
      ]
     },
     "metadata": {
      "needs_background": "light"
     },
     "output_type": "display_data"
    }
   ],
   "source": [
    "#q3\n",
    "%matplotlib inline\n",
    "A=10\n",
    "r = np.linspace(0., 20., 200)\n",
    "θ = np.linspace(0., 5/3*np.pi, 200)\n",
    "x, y, ψ = np.zeros((r.size, θ.size)), np.zeros((r.size, θ.size)), np.zeros((r.size, θ.size))\n",
    "for i in range(r.size):\n",
    "    for j in range(θ.size):\n",
    "        x[i, j] = r[i] * np.cos(θ[j])\n",
    "        y[i, j] = r[i] * np.sin(θ[j])\n",
    "\n",
    "        #change radial streamline function here\n",
    "        ψ[i, j] = A*r[i]**(6/5)*np.sin(θ[j]*6/5)\n",
    "\n",
    "\n",
    "#plt.contour(x, y, p, colors=\"red\") #red forcegul pushing pressure\n",
    "plt.contour(x, y, ψ,  [-0], colors=\"blue\"); # blue the flowing water\n",
    "#plt.contour(x, y, φ,colors=\"green\"); # green the mysterious velocity potential\n",
    "plt.gca().set_aspect(\"equal\");plt.show()"
   ]
  },
  {
   "cell_type": "code",
   "execution_count": 6,
   "metadata": {
    "scrolled": true
   },
   "outputs": [
    {
     "data": {
      "application/vnd.jupyter.widget-view+json": {
       "model_id": "c884644a20194e88a30649558e92bc78",
       "version_major": 2,
       "version_minor": 0
      },
      "text/plain": [
       "interactive(children=(FloatSlider(value=0.6666666666666666, description='α', max=2.0, min=-0.6666666666666666)…"
      ]
     },
     "metadata": {},
     "output_type": "display_data"
    }
   ],
   "source": [
    "#q9\n",
    "%matplotlib inline\n",
    "@interact(α=2/3)\n",
    "def p(α):\n",
    "    d=20\n",
    "    xvect = np.linspace(-d, d, 200)\n",
    "    yvect = np.linspace(-d, d, 100)\n",
    "    x, y = np.zeros((xvect.size, yvect.size)), np.zeros((xvect.size, yvect.size))\n",
    "    for i in range(xvect.size):\n",
    "        for j in range(yvect.size):\n",
    "            x[i, j], y[i,j] = xvect[i], yvect[j]\n",
    "\n",
    "    A = 1\n",
    "    z = x + 1.j*y\n",
    "    F = A*z**(α)\n",
    "    #The only things that need to be changed really\n",
    "    ψ = np.imag(F)\n",
    "    φ = np.real(F)\n",
    "    p = 20 - A*(x**2 + y**2)\n",
    "\n",
    "    #plt.contour(x, y, p, colors=\"red\") #red forcegul pushing pressure\n",
    "    plt.contour(x, y, ψ, colors=\"blue\"); # blue the flowing water\n",
    "    #plt.contour(x, y, φ, [0, 1],colors=\"green\"); # green the mysterious velocity potential\n",
    "    plt.gca().set_aspect(\"equal\");plt.show()"
   ]
  },
  {
   "cell_type": "code",
   "execution_count": null,
   "metadata": {},
   "outputs": [],
   "source": []
  },
  {
   "cell_type": "code",
   "execution_count": null,
   "metadata": {},
   "outputs": [],
   "source": []
  },
  {
   "cell_type": "code",
   "execution_count": null,
   "metadata": {},
   "outputs": [],
   "source": []
  },
  {
   "cell_type": "code",
   "execution_count": null,
   "metadata": {},
   "outputs": [],
   "source": []
  },
  {
   "cell_type": "code",
   "execution_count": null,
   "metadata": {},
   "outputs": [],
   "source": []
  }
 ],
 "metadata": {
  "kernelspec": {
   "display_name": "Python 3",
   "language": "python",
   "name": "python3"
  },
  "language_info": {
   "codemirror_mode": {
    "name": "ipython",
    "version": 3
   },
   "file_extension": ".py",
   "mimetype": "text/x-python",
   "name": "python",
   "nbconvert_exporter": "python",
   "pygments_lexer": "ipython3",
   "version": "3.5.2"
  }
 },
 "nbformat": 4,
 "nbformat_minor": 2
}
